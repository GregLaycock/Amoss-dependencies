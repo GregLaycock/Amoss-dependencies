{
 "cells": [
  {
   "cell_type": "code",
   "execution_count": 2,
   "metadata": {},
   "outputs": [],
   "source": [
    "import pip"
   ]
  },
  {
   "cell_type": "code",
   "execution_count": 6,
   "metadata": {},
   "outputs": [
    {
     "name": "stderr",
     "output_type": "stream",
     "text": [
      "Requirement 'packages\\\\networkx-1.11.tar.gz' looks like a filename, but the file does not exist\n"
     ]
    },
    {
     "name": "stdout",
     "output_type": "stream",
     "text": [
      "Processing c:\\users\\greg\\desktop\\sasol\\dependencies\\packages\\packages\\networkx-1.11.tar.gz\n"
     ]
    },
    {
     "name": "stderr",
     "output_type": "stream",
     "text": [
      "Exception:\n",
      "Traceback (most recent call last):\n",
      "  File \"C:\\Users\\Greg\\Anaconda3\\lib\\site-packages\\pip\\basecommand.py\", line 215, in main\n",
      "    status = self.run(options, args)\n",
      "  File \"C:\\Users\\Greg\\Anaconda3\\lib\\site-packages\\pip\\commands\\install.py\", line 335, in run\n",
      "    wb.build(autobuilding=True)\n",
      "  File \"C:\\Users\\Greg\\Anaconda3\\lib\\site-packages\\pip\\wheel.py\", line 749, in build\n",
      "    self.requirement_set.prepare_files(self.finder)\n",
      "  File \"C:\\Users\\Greg\\Anaconda3\\lib\\site-packages\\pip\\req\\req_set.py\", line 380, in prepare_files\n",
      "    ignore_dependencies=self.ignore_dependencies))\n",
      "  File \"C:\\Users\\Greg\\Anaconda3\\lib\\site-packages\\pip\\req\\req_set.py\", line 620, in _prepare_file\n",
      "    session=self.session, hashes=hashes)\n",
      "  File \"C:\\Users\\Greg\\Anaconda3\\lib\\site-packages\\pip\\download.py\", line 809, in unpack_url\n",
      "    unpack_file_url(link, location, download_dir, hashes=hashes)\n",
      "  File \"C:\\Users\\Greg\\Anaconda3\\lib\\site-packages\\pip\\download.py\", line 715, in unpack_file_url\n",
      "    unpack_file(from_path, location, content_type, link)\n",
      "  File \"C:\\Users\\Greg\\Anaconda3\\lib\\site-packages\\pip\\utils\\__init__.py\", line 602, in unpack_file\n",
      "    tarfile.is_tarfile(filename) or\n",
      "  File \"C:\\Users\\Greg\\Anaconda3\\lib\\tarfile.py\", line 2447, in is_tarfile\n",
      "    t = open(name)\n",
      "  File \"C:\\Users\\Greg\\Anaconda3\\lib\\tarfile.py\", line 1568, in open\n",
      "    return func(name, \"r\", fileobj, **kwargs)\n",
      "  File \"C:\\Users\\Greg\\Anaconda3\\lib\\tarfile.py\", line 1633, in gzopen\n",
      "    fileobj = gzip.GzipFile(name, mode + \"b\", compresslevel, fileobj)\n",
      "  File \"C:\\Users\\Greg\\Anaconda3\\lib\\gzip.py\", line 163, in __init__\n",
      "    fileobj = self.myfileobj = builtins.open(filename, mode or 'rb')\n",
      "FileNotFoundError: [Errno 2] No such file or directory: 'C:\\\\Users\\\\Greg\\\\Desktop\\\\Sasol\\\\dependencies\\\\packages\\\\packages\\\\networkx-1.11.tar.gz'\n"
     ]
    },
    {
     "data": {
      "text/plain": [
       "2"
      ]
     },
     "execution_count": 6,
     "metadata": {},
     "output_type": "execute_result"
    }
   ],
   "source": [
    "pip.main(['install',r'packages\\networkx-1.11.tar.gz',proxy=http])"
   ]
  },
  {
   "cell_type": "code",
   "execution_count": null,
   "metadata": {
    "collapsed": true
   },
   "outputs": [],
   "source": []
  }
 ],
 "metadata": {
  "kernelspec": {
   "display_name": "Python 3",
   "language": "python",
   "name": "python3"
  },
  "language_info": {
   "codemirror_mode": {
    "name": "ipython",
    "version": 3
   },
   "file_extension": ".py",
   "mimetype": "text/x-python",
   "name": "python",
   "nbconvert_exporter": "python",
   "pygments_lexer": "ipython3",
   "version": "3.6.3"
  }
 },
 "nbformat": 4,
 "nbformat_minor": 2
}
